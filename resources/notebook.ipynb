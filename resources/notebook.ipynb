{
 "cells": [
  {
   "cell_type": "markdown",
   "id": "937acf3c-c077-4ca6-8d90-8f6dd4d13c54",
   "metadata": {},
   "source": [
    "<center><img src=\"redpopcorn.jpg\"></center>"
   ]
  },
  {
   "cell_type": "markdown",
   "id": "5962b2cd-17bb-4ec9-b2d5-68537ca26860",
   "metadata": {},
   "source": [
    "**Netflix**! What started in 1997 as a DVD rental service has since exploded into one of the largest entertainment and media companies.\n",
    "\n",
    "Given the large number of movies and series available on the platform, it is a perfect opportunity to flex your exploratory data analysis skills and dive into the entertainment industry.\n",
    "\n",
    "You work for a production company that specializes in nostalgic styles. You want to do some research on movies released in the 1990's. You'll delve into Netflix data and perform exploratory data analysis to better understand this awesome movie decade!\n",
    "\n",
    "You have been supplied with the dataset `netflix_data.csv`, along with the following table detailing the column names and descriptions. Feel free to experiment further after submitting!\n",
    "\n",
    "## The data\n",
    "### **netflix_data.csv**\n",
    "| Column | Description |\n",
    "|--------|-------------|\n",
    "| `show_id` | The ID of the show |  \n",
    "| `type` | Type of show |\n",
    "| `title` | Title of the show |\n",
    "| `director` | Director of the show |\n",
    "| `cast` | Cast of the show |\n",
    "| `country` | Country of origin |\n",
    "| `date_added` | Date added to Netflix |\n",
    "| `release_year` | Year of Netflix release |\n",
    "| `duration` | Duration of the show in minutes |\n",
    "| `description` | Description of the show |\n",
    "| `genre` | Show genre |"
   ]
  },
  {
   "cell_type": "code",
   "execution_count": 115,
   "id": "320a3abc-8a36-4b2b-baaf-473325363a4d",
   "metadata": {
    "executionCancelledAt": null,
    "executionTime": 52,
    "lastExecutedAt": 1754302370046,
    "lastExecutedByKernel": "6452a41b-ba09-43e9-8d3e-6f38e58d22aa",
    "lastScheduledRunId": null,
    "lastSuccessfullyExecutedCode": "# Importing pandas and matplotlib\nimport pandas as pd\nimport matplotlib.pyplot as plt\n\n# Read in the Netflix CSV as a DataFrame\nnetflix_df = pd.read_csv(\"netflix_data.csv\")"
   },
   "outputs": [],
   "source": [
    "# Importing pandas and matplotlib\n",
    "import pandas as pd\n",
    "import matplotlib.pyplot as plt\n",
    "\n",
    "# Read in the Netflix CSV as a DataFrame\n",
    "netflix_df = pd.read_csv(\"netflix_data.csv\")"
   ]
  },
  {
   "cell_type": "code",
   "execution_count": null,
   "id": "72658473-114f-49eb-bd4e-cc03c710834a",
   "metadata": {
    "executionCancelledAt": null,
    "executionTime": 56,
    "lastExecutedAt": 1754302370102,
    "lastExecutedByKernel": "6452a41b-ba09-43e9-8d3e-6f38e58d22aa",
    "lastScheduledRunId": null,
    "lastSuccessfullyExecutedCode": "# Start coding here! Use as many cells as you like\nimport numpy as np\n# print(netflix_df)\n#to find the most frequent movie in 1990\nmovie_type_df =netflix_df[netflix_df['type'] == 'Movie']\nmovie_1990_df = movie_df[np.logical_and(movie_df['release_year'] >= 1990, movie_df['release_year'] <= 1999)]\n# print(movie_1990['release_year'])\nduration = int(movie_1990['duration'].mode()[0]) # 88\nprint(duration)\n\n# to find the number of short movies released in 1990\naction_df =  netflix_df[netflix_df['genre'] == 'Action']\n# short_action_df =action_df[action_df['duration'] < 90]\n\nshort_action_movie_df = action_df[\n    (action_df['duration'] < 90) &\n    (action_df['type'] == 'Movie') &\n    (action_df['release_year'] >= 1990) &\n    (action_df['release_year'] <= 1999)\n]\n\n\nprint(short_action_movie_df.loc[:,['type', 'release_year' ,'duration' ,'genre']])\nshort_movie_count = len(short_action_movie_df)\nprint(short_movie_count)\n\n\n\n\n",
    "outputsMetadata": {
     "0": {
      "height": 227,
      "type": "stream"
     },
     "1": {
      "height": 38,
      "type": "stream"
     }
    }
   },
   "outputs": [
    {
     "name": "stdout",
     "output_type": "stream",
     "text": [
      "94\n",
      "       type  release_year  duration   genre\n",
      "1288  Movie          1998        69  Action\n",
      "1698  Movie          1997        89  Action\n",
      "2328  Movie          1990        88  Action\n",
      "2993  Movie          1992        84  Action\n",
      "3297  Movie          1995        89  Action\n",
      "3806  Movie          1993        83  Action\n",
      "3943  Movie          1997        87  Action\n",
      "7\n"
     ]
    }
   ],
   "source": [
    "# Start coding here! Use as many cells as you like\n",
    "import numpy as np\n",
    "# print(netflix_df)\n",
    "#to find the most frequent movie in 1990\n",
    "movie_type_df =netflix_df[netflix_df['type'] == 'Movie']\n",
    "movie_1990_df = movie_df[np.logical_and(movie_df['release_year'] >= 1990, movie_df['release_year'] <= 1999)]\n",
    "# print(movie_1990['release_year'])\n",
    "duration = int(movie_1990['duration'].mode()[0]) # 88\n",
    "print(duration)\n",
    "\n",
    "# to find the number of short movies released in 1990\n",
    "action_df =  netflix_df[netflix_df['genre'] == 'Action']\n",
    "# short_action_df =action_df[action_df['duration'] < 90]\n",
    "\n",
    "short_action_movie_df = action_df[\n",
    "    (action_df['duration'] < 90) &\n",
    "    (action_df['type'] == 'Movie') &\n",
    "    (action_df['release_year'] >= 1990) &\n",
    "    (action_df['release_year'] <= 1999)\n",
    "]\n",
    "\n",
    "\n",
    "print(short_action_movie_df.loc[:,['type', 'release_year' ,'duration' ,'genre']])\n",
    "short_movie_count = len(short_action_movie_df)\n",
    "print(short_movie_count)\n",
    "\n",
    "\n",
    "\n",
    "\n"
   ]
  }
 ],
 "metadata": {
  "colab": {
   "name": "Welcome to DataCamp Workspaces.ipynb",
   "provenance": []
  },
  "editor": "DataLab",
  "kernelspec": {
   "display_name": "Python 3 (ipykernel)",
   "language": "python",
   "name": "python3"
  },
  "language_info": {
   "codemirror_mode": {
    "name": "ipython",
    "version": 3
   },
   "file_extension": ".py",
   "mimetype": "text/x-python",
   "name": "python",
   "nbconvert_exporter": "python",
   "pygments_lexer": "ipython3",
   "version": "3.8.10"
  }
 },
 "nbformat": 4,
 "nbformat_minor": 5
}
